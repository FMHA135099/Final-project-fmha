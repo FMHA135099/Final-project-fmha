{
 "cells": [
  {
   "cell_type": "markdown",
   "id": "f79a7097",
   "metadata": {},
   "source": [
    "## 0.2 Explore data"
   ]
  },
  {
   "cell_type": "markdown",
   "id": "b5a7f2f0",
   "metadata": {},
   "source": [
    "Read Data"
   ]
  },
  {
   "cell_type": "code",
   "execution_count": null,
   "id": "e7ae17ea",
   "metadata": {},
   "outputs": [],
   "source": [
    "processed_covid_file = path.data_processed_dir(\"time_series_covid19_confirmed_global_processed.csv\")"
   ]
  },
  {
   "cell_type": "code",
   "execution_count": null,
   "id": "8200a134",
   "metadata": {},
   "outputs": [],
   "source": [
    "processed_covid_df = pd.read_csv(processed_covid_file)\n",
    "processed_covid_df.info()"
   ]
  },
  {
   "cell_type": "code",
   "execution_count": null,
   "id": "8944f981",
   "metadata": {},
   "outputs": [],
   "source": [
    "processed_covid_df.head()"
   ]
  },
  {
   "cell_type": "markdown",
   "id": "81a8acd0",
   "metadata": {},
   "source": [
    "Explore Data"
   ]
  },
  {
   "cell_type": "code",
   "execution_count": null,
   "id": "b27f4310",
   "metadata": {},
   "outputs": [],
   "source": [
    "sns.set_style(\"whitegrid\")"
   ]
  },
  {
   "cell_type": "code",
   "execution_count": null,
   "id": "df2b04be",
   "metadata": {},
   "outputs": [],
   "source": [
    "processed_covid_df = (\n",
    "    processed_covid_df\n",
    "    .transform_column(\n",
    "        \"date\",\n",
    "        pd.to_datetime\n",
    "    )\n",
    ")"
   ]
  },
  {
   "cell_type": "markdown",
   "id": "450fd2db",
   "metadata": {},
   "source": [
    "Subset data"
   ]
  },
  {
   "cell_type": "code",
   "execution_count": null,
   "id": "ee8b9582",
   "metadata": {},
   "outputs": [],
   "source": [
    "countries = ['Argentina', 'Brazil', 'Chile', 'Colombia', 'Mexico', 'Peru']\n",
    "some_latam_countries_df = processed_covid_df.filter_on(f\"country_region in {countries}\")\n",
    "some_latam_countries_df.head(3)"
   ]
  },
  {
   "cell_type": "markdown",
   "id": "f0693b03",
   "metadata": {},
   "source": [
    "Visualiza Data"
   ]
  },
  {
   "cell_type": "code",
   "execution_count": null,
   "id": "1609afb4",
   "metadata": {},
   "outputs": [],
   "source": [
    "import final_project.visualization.visualize as visualize"
   ]
  },
  {
   "cell_type": "code",
   "execution_count": null,
   "id": "414d41b6",
   "metadata": {},
   "outputs": [],
   "source": [
    "visualize.covid_time_series(some_latam_countries_df)"
   ]
  },
  {
   "cell_type": "code",
   "execution_count": null,
   "id": "b0e76dc0",
   "metadata": {},
   "outputs": [],
   "source": [
    "visualize.top_countries(processed_covid_df, countries, 11)"
   ]
  },
  {
   "cell_type": "code",
   "execution_count": null,
   "id": "4df3d199",
   "metadata": {},
   "outputs": [],
   "source": [
    "visualize.covid_plot_countries(top_countries_df)"
   ]
  }
 ],
 "metadata": {
  "kernelspec": {
   "display_name": "final_project",
   "language": "python",
   "name": "python3"
  },
  "language_info": {
   "name": "python",
   "version": "3.9.21"
  }
 },
 "nbformat": 4,
 "nbformat_minor": 5
}
