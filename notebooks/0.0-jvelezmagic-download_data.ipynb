{
 "cells": [
  {
   "cell_type": "markdown",
   "id": "ef894972",
   "metadata": {},
   "source": [
    "## 0.0 Download data"
   ]
  },
  {
   "cell_type": "code",
   "execution_count": null,
   "id": "7d56fdaf",
   "metadata": {},
   "outputs": [],
   "source": [
    "%load_ext autoreload\n",
    "%autoreload 2"
   ]
  },
  {
   "cell_type": "code",
   "execution_count": null,
   "id": "7bdc3c3c",
   "metadata": {},
   "outputs": [],
   "source": [
    "import final_project.utils.paths as path"
   ]
  },
  {
   "cell_type": "code",
   "execution_count": null,
   "id": "e587ee2d",
   "metadata": {},
   "outputs": [],
   "source": [
    "covid_url = \"https://raw.githubusercontent.com/CSSEGISandData/COVID-19/master/csse_covid_19_data/csse_covid_19_time_series/time_series_covid19_confirmed_global.csv\"\n",
    "\n",
    "covid_file = path.data_raw_dir(\"time_series_covid19_confirmed_global.csv\")"
   ]
  },
  {
   "cell_type": "code",
   "execution_count": null,
   "id": "2bfcd27e",
   "metadata": {},
   "outputs": [],
   "source": [
    "!curl {covid_url} -o {covid_file}"
   ]
  }
 ],
 "metadata": {
  "language_info": {
   "name": "python"
  }
 },
 "nbformat": 4,
 "nbformat_minor": 5
}
